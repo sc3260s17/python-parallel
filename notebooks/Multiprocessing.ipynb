{
 "cells": [
  {
   "cell_type": "markdown",
   "metadata": {
    "deletable": true,
    "editable": true,
    "slideshow": {
     "slide_type": "slide"
    }
   },
   "source": [
    "# Multi-threading in Python\n",
    "\n",
    "Demonstrates basic functionality of Python \n",
    "[threading](https://docs.python.org/3.5/library/threading.html) \n",
    "module in Python3.x to perform parallel operations on a single node (following\n",
    "the SMP paradigm). "
   ]
  },
  {
   "cell_type": "markdown",
   "metadata": {
    "collapsed": true,
    "deletable": true,
    "editable": true
   },
   "source": [
    "# %load \"../batch_job.slurm\"\n",
    "\n",
    "```\n",
    "#!/bin/bash\n",
    "\n",
    "#SBATCH --nodes=1\n",
    "#SBATCH --tasks-per-node=1\n",
    "#SBATCH --cpus-per-task=8\n",
    "#SBATCH --time=0-00:04:00\n",
    "#SBATCH --mem=999M\n",
    "\n",
    "# Sources the appropriate packages and conda environments\n",
    "source source_file.sh \n",
    "\n",
    "echo $SLURM_JOB_NODELIST\n",
    "\n",
    "# Runs the program \n",
    "./compute_pi.py \n",
    "date\n",
    "```"
   ]
  },
  {
   "cell_type": "markdown",
   "metadata": {
    "deletable": true,
    "editable": true,
    "slideshow": {
     "slide_type": "slide"
    }
   },
   "source": [
    "# A practical(?) example\n",
    "\n",
    "From [Rosetta Code](http://rosettacode.org/wiki/Parallel_Brute_Force#Python)\n",
    "\n",
    "> Task\n",
    "\n",
    "> Find, through brute force, the five-letter passwords corresponding with the following SHA-256 hashes:\n",
    "\n",
    "> 1. 1115dd800feaacefdf481f1f9070374a2a81e27880f187396db67958b207cbad\n",
    "> 2. 3a7bd3e2360a3d29eea436fcfb7e44c735d117c42d1c1835420b6b9942dd4f1b\n",
    "> 3. 74e1bb62f8dabb8125a58852b63bdf6eaef667cb56ac7f7cdba6d7305c50a22f\n",
    "\n",
    "> Your program should naively iterate through all possible passwords consisting only of five lower-case ASCII English letters. It should use concurrent or parallel processing, if your language supports that feature. You may calculate SHA-256 hashes by calling a library or through a custom implementation. Print each matching password, along with its SHA-256 hash."
   ]
  },
  {
   "cell_type": "markdown",
   "metadata": {
    "deletable": true,
    "editable": true,
    "slideshow": {
     "slide_type": "slide"
    }
   },
   "source": [
    "## The worker function\n",
    "\n",
    "The total number of passwords we need to try is $26^5$, so we'll pass each integer from $0$ to $26^5$ and map it to it's corresponding word and hash. Essentially, what we need to do is convert each base-10 integer to base-26; to get the first letter of the word, we divide by $26^4$ to get a value in the range $0-25$. Then, we take the remainder and divide by $26^3$ to get the second letter and so on. To get the ASCII value for each letter, we have to add $97$. Finally, we compute the sha256 digest."
   ]
  },
  {
   "cell_type": "code",
   "execution_count": 36,
   "metadata": {
    "collapsed": true,
    "deletable": true,
    "editable": true
   },
   "outputs": [],
   "source": [
    "from hashlib import sha256\n",
    "\n",
    "hashes = {\n",
    "    \"1115dd800feaacefdf481f1f9070374a2a81e27880f187396db67958b207cbad\",\n",
    "    \"3a7bd3e2360a3d29eea436fcfb7e44c735d117c42d1c1835420b6b9942dd4f1b\",\n",
    "    \"74e1bb62f8dabb8125a58852b63bdf6eaef667cb56ac7f7cdba6d7305c50a22f\"\n",
    "}\n",
    "\n",
    "def hash_from_serial(serial):\n",
    "    divisor = 456976\n",
    "    letters = []\n",
    "    for i in range(5):\n",
    "        letter, serial = divmod(serial, divisor)\n",
    "        letters.append( 97 + int(letter) )\n",
    "        divisor /= 26\n",
    "    digest = sha256(bytes(letters)).hexdigest()\n",
    "    if digest in hashes:\n",
    "        password = \"\".join(chr(x) for x in letters)\n",
    "        return {digest: password}"
   ]
  },
  {
   "cell_type": "markdown",
   "metadata": {
    "deletable": true,
    "editable": true,
    "slideshow": {
     "slide_type": "-"
    }
   },
   "source": [
    "Since we don't have $26^5$ threads to work with, we need to divide the work up into chunks and assign each chunk to a worker."
   ]
  },
  {
   "cell_type": "code",
   "execution_count": 35,
   "metadata": {
    "collapsed": false,
    "deletable": true,
    "editable": true,
    "slideshow": {
     "slide_type": "-"
    }
   },
   "outputs": [],
   "source": [
    "def loop_hash(start, span, data):\n",
    "    for serial in range(start, start + span):\n",
    "        r = hash_from_serial(serial)\n",
    "        if r is not None:\n",
    "            data.update(r)"
   ]
  },
  {
   "cell_type": "code",
   "execution_count": 19,
   "metadata": {
    "collapsed": false,
    "deletable": true,
    "editable": true,
    "slideshow": {
     "slide_type": "-"
    }
   },
   "outputs": [],
   "source": [
    "import os\n",
    "from math import ceil\n",
    "\n",
    "num_passwords = int(26 ** 5)\n",
    "num_threads = int(os.environ['SLURM_CPUS_PER_TASK'])\n",
    "chunksize = ceil(num_passwords / num_threads)\n",
    "\n",
    "assert( chunksize * num_threads >= num_passwords)"
   ]
  },
  {
   "cell_type": "code",
   "execution_count": 13,
   "metadata": {
    "collapsed": false,
    "deletable": true,
    "editable": true,
    "slideshow": {
     "slide_type": "skip"
    }
   },
   "outputs": [
    {
     "name": "stdout",
     "output_type": "stream",
     "text": [
      "11863797 {'1115dd800feaacefdf481f1f9070374a2a81e27880f187396db67958b207cbad': 'zyzzx'}\n"
     ]
    }
   ],
   "source": [
    "def string_to_serial(s):\n",
    "    return sum((int(ord(c)) - 97) * 26 ** i for i, c in enumerate(reversed(s)))\n",
    "\n",
    "serial = string_to_serial('zyzzx')\n",
    "r = hash_from_serial(serial)\n",
    "print(serial, r)"
   ]
  },
  {
   "cell_type": "code",
   "execution_count": 16,
   "metadata": {
    "collapsed": false,
    "deletable": true,
    "editable": true,
    "slideshow": {
     "slide_type": "skip"
    }
   },
   "outputs": [
    {
     "name": "stdout",
     "output_type": "stream",
     "text": [
      "{'1115dd800feaacefdf481f1f9070374a2a81e27880f187396db67958b207cbad': 'zyzzx'}\n"
     ]
    }
   ],
   "source": [
    "d = {}\n",
    "loop_hash(11863797, 2, d)\n",
    "print(d)"
   ]
  },
  {
   "cell_type": "code",
   "execution_count": 20,
   "metadata": {
    "collapsed": false,
    "deletable": true,
    "editable": true
   },
   "outputs": [
    {
     "name": "stdout",
     "output_type": "stream",
     "text": [
      "{'3a7bd3e2360a3d29eea436fcfb7e44c735d117c42d1c1835420b6b9942dd4f1b': 'apple', '74e1bb62f8dabb8125a58852b63bdf6eaef667cb56ac7f7cdba6d7305c50a22f': 'mmmmm', '1115dd800feaacefdf481f1f9070374a2a81e27880f187396db67958b207cbad': 'zyzzx'}\n"
     ]
    }
   ],
   "source": [
    "import threading\n",
    "\n",
    "def use_threading():\n",
    "    threads = []\n",
    "    serial_start = 0\n",
    "\n",
    "    # Here, the dict will be mutated by the worker function\n",
    "    pwords = dict()\n",
    "\n",
    "    # Starts the processes\n",
    "    for i in range(num_threads):\n",
    "        t = threading.Thread(target=loop_hash, args=(serial_start, chunksize, pwords))\n",
    "        serial_start += chunksize\n",
    "        threads.append(t)\n",
    "        t.start()\n",
    "\n",
    "    # Joins the worker threads to the \"master\" thread\n",
    "    for i in range(num_threads):\n",
    "        t.join()\n",
    "\n",
    "    print(pwords)\n",
    "    \n",
    "use_threading()"
   ]
  },
  {
   "cell_type": "code",
   "execution_count": 37,
   "metadata": {
    "collapsed": false,
    "deletable": true,
    "editable": true
   },
   "outputs": [
    {
     "name": "stdout",
     "output_type": "stream",
     "text": [
      "{'h2': 'apple', 'h3': 'mmmmm', 'h1': 'zyzzx'}\n",
      "1 loop, best of 1: 53.1 s per loop\n"
     ]
    }
   ],
   "source": [
    "%timeit -n 1 -r 1 use_threading()"
   ]
  },
  {
   "cell_type": "markdown",
   "metadata": {
    "deletable": true,
    "editable": true,
    "slideshow": {
     "slide_type": "slide"
    }
   },
   "source": [
    "The `multiprocessing` module takes care of chunking for us if we pass it the chunk size. "
   ]
  },
  {
   "cell_type": "code",
   "execution_count": 32,
   "metadata": {
    "collapsed": false,
    "deletable": true,
    "editable": true,
    "scrolled": true,
    "slideshow": {
     "slide_type": "-"
    }
   },
   "outputs": [],
   "source": [
    "from multiprocessing.pool import ThreadPool\n",
    "\n",
    "def use_thread_pool():\n",
    "    p = ThreadPool(num_threads)\n",
    "    pwords = dict()\n",
    "    for v in filter(lambda x: x is not None, \n",
    "                    p.map(hash_from_serial, (i for i in range(num_passwords)), chunksize=chunksize)):\n",
    "        pwords.update(v)\n",
    "    print(pwords)\n"
   ]
  },
  {
   "cell_type": "markdown",
   "metadata": {
    "deletable": true,
    "editable": true,
    "slideshow": {
     "slide_type": "subslide"
    }
   },
   "source": [
    "We can see that this also takes about a minute to execute."
   ]
  },
  {
   "cell_type": "code",
   "execution_count": 31,
   "metadata": {
    "collapsed": false,
    "deletable": true,
    "editable": true,
    "slideshow": {
     "slide_type": "-"
    }
   },
   "outputs": [
    {
     "name": "stdout",
     "output_type": "stream",
     "text": [
      "{'3a7bd3e2360a3d29eea436fcfb7e44c735d117c42d1c1835420b6b9942dd4f1b': 'apple', '74e1bb62f8dabb8125a58852b63bdf6eaef667cb56ac7f7cdba6d7305c50a22f': 'mmmmm', '1115dd800feaacefdf481f1f9070374a2a81e27880f187396db67958b207cbad': 'zyzzx'}\n",
      "1 loop, best of 1: 1min 2s per loop\n"
     ]
    }
   ],
   "source": [
    "%timeit -n 1 -r 1 use_thread_pool()"
   ]
  },
  {
   "cell_type": "markdown",
   "metadata": {
    "deletable": true,
    "editable": true,
    "slideshow": {
     "slide_type": "slide"
    }
   },
   "source": [
    "## Note that `ThreadPool` is not recommended!\n",
    "\n",
    "As per the [Python documentation](https://docs.python.org/3.6/library/multiprocessing.html)\n",
    "\n",
    ">The multiprocessing package offers both local and remote concurrency, effectively side-stepping the Global Interpreter Lock by using subprocesses instead of threads. Due to this, the multiprocessing module allows the programmer to fully leverage multiple processors on a given machine. It runs on both Unix and Windows."
   ]
  },
  {
   "cell_type": "markdown",
   "metadata": {
    "deletable": true,
    "editable": true,
    "slideshow": {
     "slide_type": "subslide"
    }
   },
   "source": [
    "## The right way: use `Pool`"
   ]
  },
  {
   "cell_type": "code",
   "execution_count": 33,
   "metadata": {
    "collapsed": false,
    "deletable": true,
    "editable": true,
    "scrolled": true,
    "slideshow": {
     "slide_type": "-"
    }
   },
   "outputs": [],
   "source": [
    "from multiprocessing import Pool\n",
    "\n",
    "def use_pool():\n",
    "    p = Pool(num_threads)\n",
    "    pwords = dict()\n",
    "    for v in filter(lambda x: x is not None, \n",
    "                    p.map(hash_from_serial, (i for i in range(num_passwords)), chunksize=chunksize)):\n",
    "        pwords.update(v)\n",
    "    print(pwords)"
   ]
  },
  {
   "cell_type": "markdown",
   "metadata": {
    "collapsed": true,
    "deletable": true,
    "editable": true,
    "slideshow": {
     "slide_type": "subslide"
    }
   },
   "source": [
    "Wow! 3x speedup!"
   ]
  },
  {
   "cell_type": "code",
   "execution_count": 34,
   "metadata": {
    "collapsed": false,
    "deletable": true,
    "editable": true,
    "slideshow": {
     "slide_type": "-"
    }
   },
   "outputs": [
    {
     "name": "stdout",
     "output_type": "stream",
     "text": [
      "{'3a7bd3e2360a3d29eea436fcfb7e44c735d117c42d1c1835420b6b9942dd4f1b': 'apple', '74e1bb62f8dabb8125a58852b63bdf6eaef667cb56ac7f7cdba6d7305c50a22f': 'mmmmm', '1115dd800feaacefdf481f1f9070374a2a81e27880f187396db67958b207cbad': 'zyzzx'}\n",
      "1 loop, best of 1: 19.2 s per loop\n"
     ]
    }
   ],
   "source": [
    "%timeit -n 1 -r 1 use_pool()"
   ]
  },
  {
   "cell_type": "markdown",
   "metadata": {
    "deletable": true,
    "editable": true
   },
   "source": [
    "# Conclusions\n",
    "\n",
    "- Use `multiprocessing` not `threading`\n",
    "- Use `Pool` not `ThreadPool`"
   ]
  }
 ],
 "metadata": {
  "anaconda-cloud": {},
  "celltoolbar": "Slideshow",
  "kernelspec": {
   "display_name": "Python 3",
   "language": "python",
   "name": "python3"
  },
  "language_info": {
   "codemirror_mode": {
    "name": "ipython",
    "version": 3
   },
   "file_extension": ".py",
   "mimetype": "text/x-python",
   "name": "python",
   "nbconvert_exporter": "python",
   "pygments_lexer": "ipython3",
   "version": "3.6.0"
  }
 },
 "nbformat": 4,
 "nbformat_minor": 2
}
